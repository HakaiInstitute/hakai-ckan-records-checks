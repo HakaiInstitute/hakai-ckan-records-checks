{
 "cells": [
  {
   "cell_type": "code",
   "execution_count": 1,
   "metadata": {},
   "outputs": [],
   "source": [
    "import pandas as pd \n",
    "import plotly.express as px"
   ]
  },
  {
   "cell_type": "code",
   "execution_count": 53,
   "metadata": {},
   "outputs": [
    {
     "data": {
      "text/html": [
       "<div>\n",
       "<style scoped>\n",
       "    .dataframe tbody tr th:only-of-type {\n",
       "        vertical-align: middle;\n",
       "    }\n",
       "\n",
       "    .dataframe tbody tr th {\n",
       "        vertical-align: top;\n",
       "    }\n",
       "\n",
       "    .dataframe thead th {\n",
       "        text-align: right;\n",
       "    }\n",
       "</style>\n",
       "<table border=\"1\" class=\"dataframe\">\n",
       "  <thead>\n",
       "    <tr style=\"text-align: right;\">\n",
       "      <th></th>\n",
       "      <th>record_id</th>\n",
       "      <th>level</th>\n",
       "      <th>message</th>\n",
       "    </tr>\n",
       "  </thead>\n",
       "  <tbody>\n",
       "    <tr>\n",
       "      <th>0</th>\n",
       "      <td>7b75f3fb-0063-4607-b4e4-b7b422e7ca9b</td>\n",
       "      <td>ERROR</td>\n",
       "      <td>Invalid distributor organisation-name=Hakai Ge...</td>\n",
       "    </tr>\n",
       "    <tr>\n",
       "      <th>1</th>\n",
       "      <td>203f5c98-e8be-4c41-b523-dddea723ccbf</td>\n",
       "      <td>ERROR</td>\n",
       "      <td>Invalid distributor organisation-name=Hakai Ge...</td>\n",
       "    </tr>\n",
       "    <tr>\n",
       "      <th>2</th>\n",
       "      <td>92b7a1eb-87a7-4a55-9093-6e5b354041fa</td>\n",
       "      <td>ERROR</td>\n",
       "      <td>Invalid resources[1].url.status_code=404</td>\n",
       "    </tr>\n",
       "    <tr>\n",
       "      <th>3</th>\n",
       "      <td>92b7a1eb-87a7-4a55-9093-6e5b354041fa</td>\n",
       "      <td>ERROR</td>\n",
       "      <td>Empty resource name</td>\n",
       "    </tr>\n",
       "    <tr>\n",
       "      <th>4</th>\n",
       "      <td>92b7a1eb-87a7-4a55-9093-6e5b354041fa</td>\n",
       "      <td>ERROR</td>\n",
       "      <td>Invalid resource format: resources[2].format=PDF</td>\n",
       "    </tr>\n",
       "    <tr>\n",
       "      <th>...</th>\n",
       "      <td>...</td>\n",
       "      <td>...</td>\n",
       "      <td>...</td>\n",
       "    </tr>\n",
       "    <tr>\n",
       "      <th>74</th>\n",
       "      <td>8598da5b-ef61-4287-a601-72e666a3ea14</td>\n",
       "      <td>ERROR</td>\n",
       "      <td>Invalid resource format: resources[0].format=PDF</td>\n",
       "    </tr>\n",
       "    <tr>\n",
       "      <th>75</th>\n",
       "      <td>5be87ce5-5533-4812-ba7e-b7f88db37899</td>\n",
       "      <td>ERROR</td>\n",
       "      <td>Invalid distributor organisation-name=Hakai In...</td>\n",
       "    </tr>\n",
       "    <tr>\n",
       "      <th>76</th>\n",
       "      <td>14b416a4-1730-4e7c-a899-228ab5c05b56</td>\n",
       "      <td>ERROR</td>\n",
       "      <td>Invalid resources[0].url.status_code=404</td>\n",
       "    </tr>\n",
       "    <tr>\n",
       "      <th>77</th>\n",
       "      <td>4ac069e0-08c4-484b-b9e4-3f7856773f59</td>\n",
       "      <td>ERROR</td>\n",
       "      <td>Invalid distributor organisation-name=Hakai Ge...</td>\n",
       "    </tr>\n",
       "    <tr>\n",
       "      <th>78</th>\n",
       "      <td>736679b3-89d6-4168-84b7-38b81b563f14</td>\n",
       "      <td>ERROR</td>\n",
       "      <td>Invalid resources[0].url.status_code=404</td>\n",
       "    </tr>\n",
       "  </tbody>\n",
       "</table>\n",
       "<p>79 rows × 3 columns</p>\n",
       "</div>"
      ],
      "text/plain": [
       "                               record_id  level  \\\n",
       "0   7b75f3fb-0063-4607-b4e4-b7b422e7ca9b  ERROR   \n",
       "1   203f5c98-e8be-4c41-b523-dddea723ccbf  ERROR   \n",
       "2   92b7a1eb-87a7-4a55-9093-6e5b354041fa  ERROR   \n",
       "3   92b7a1eb-87a7-4a55-9093-6e5b354041fa  ERROR   \n",
       "4   92b7a1eb-87a7-4a55-9093-6e5b354041fa  ERROR   \n",
       "..                                   ...    ...   \n",
       "74  8598da5b-ef61-4287-a601-72e666a3ea14  ERROR   \n",
       "75  5be87ce5-5533-4812-ba7e-b7f88db37899  ERROR   \n",
       "76  14b416a4-1730-4e7c-a899-228ab5c05b56  ERROR   \n",
       "77  4ac069e0-08c4-484b-b9e4-3f7856773f59  ERROR   \n",
       "78  736679b3-89d6-4168-84b7-38b81b563f14  ERROR   \n",
       "\n",
       "                                              message  \n",
       "0   Invalid distributor organisation-name=Hakai Ge...  \n",
       "1   Invalid distributor organisation-name=Hakai Ge...  \n",
       "2            Invalid resources[1].url.status_code=404  \n",
       "3                                 Empty resource name  \n",
       "4    Invalid resource format: resources[2].format=PDF  \n",
       "..                                                ...  \n",
       "74   Invalid resource format: resources[0].format=PDF  \n",
       "75  Invalid distributor organisation-name=Hakai In...  \n",
       "76           Invalid resources[0].url.status_code=404  \n",
       "77  Invalid distributor organisation-name=Hakai Ge...  \n",
       "78           Invalid resources[0].url.status_code=404  \n",
       "\n",
       "[79 rows x 3 columns]"
      ]
     },
     "execution_count": 53,
     "metadata": {},
     "output_type": "execute_result"
    }
   ],
   "source": [
    "# load issues data\n",
    "issues = pd.read_csv('../output/test_results.csv')\n",
    "issues.head()\n",
    "\n",
    "records = pd.read_csv('../output/catalog_summary.csv')\n",
    "issues"
   ]
  },
  {
   "cell_type": "code",
   "execution_count": 58,
   "metadata": {},
   "outputs": [
    {
     "data": {
      "text/html": [
       "<div>\n",
       "<style scoped>\n",
       "    .dataframe tbody tr th:only-of-type {\n",
       "        vertical-align: middle;\n",
       "    }\n",
       "\n",
       "    .dataframe tbody tr th {\n",
       "        vertical-align: top;\n",
       "    }\n",
       "\n",
       "    .dataframe thead th {\n",
       "        text-align: right;\n",
       "    }\n",
       "</style>\n",
       "<table border=\"1\" class=\"dataframe\">\n",
       "  <thead>\n",
       "    <tr style=\"text-align: right;\">\n",
       "      <th></th>\n",
       "      <th>id</th>\n",
       "      <th>name</th>\n",
       "      <th>organization</th>\n",
       "      <th>title</th>\n",
       "      <th>licence</th>\n",
       "      <th>private</th>\n",
       "      <th>projects</th>\n",
       "      <th>progress</th>\n",
       "      <th>state</th>\n",
       "      <th>type</th>\n",
       "      <th>distributor</th>\n",
       "      <th>resources_count</th>\n",
       "      <th>spatial</th>\n",
       "      <th>vertical-extent</th>\n",
       "      <th>eov</th>\n",
       "      <th>issues</th>\n",
       "      <th>links</th>\n",
       "    </tr>\n",
       "  </thead>\n",
       "  <tbody>\n",
       "    <tr>\n",
       "      <th>0</th>\n",
       "      <td>f2158f39-9a74-4f33-bd11-f2370d543a24</td>\n",
       "      <td>ca-cioos_0c8692f0-a103-4681-9247-9bb69c6e222e</td>\n",
       "      <td>Hakai Institute</td>\n",
       "      <td>Kelp Canopy Extent - 2015 - NW Calvert Island ...</td>\n",
       "      <td>CC-BY-4.0</td>\n",
       "      <td>False</td>\n",
       "      <td>NaN</td>\n",
       "      <td>completed</td>\n",
       "      <td>active</td>\n",
       "      <td>dataset</td>\n",
       "      <td>Hakai Institute</td>\n",
       "      <td>2</td>\n",
       "      <td>{'type': 'Polygon', 'coordinates': [[[-128.175...</td>\n",
       "      <td>[{'max': '10.0', 'min': '0.0'}]</td>\n",
       "      <td>other, macroalgalCanopyCoverAndComposition</td>\n",
       "      <td>NaN</td>\n",
       "      <td>NaN</td>\n",
       "    </tr>\n",
       "    <tr>\n",
       "      <th>1</th>\n",
       "      <td>8fcbc2f9-06bb-4510-8bc1-4ba0488d4ac5</td>\n",
       "      <td>ca-cioos_0ebfdd89-61d6-453c-870a-83167617b26a</td>\n",
       "      <td>Hakai Institute</td>\n",
       "      <td>Glacier and Icefield Mapping - British Columbi...</td>\n",
       "      <td>CC-BY-4.0</td>\n",
       "      <td>False</td>\n",
       "      <td>NaN</td>\n",
       "      <td>completed</td>\n",
       "      <td>active</td>\n",
       "      <td>dataset</td>\n",
       "      <td>Hakai Institute</td>\n",
       "      <td>2</td>\n",
       "      <td>{'type': 'Polygon', 'coordinates': [[[-127.4, ...</td>\n",
       "      <td>[{'max': '2000.0', 'min': '0.0'}]</td>\n",
       "      <td>other</td>\n",
       "      <td>NaN</td>\n",
       "      <td>NaN</td>\n",
       "    </tr>\n",
       "    <tr>\n",
       "      <th>2</th>\n",
       "      <td>d875b549-2a4c-4f4a-b389-69c97a26f506</td>\n",
       "      <td>ca-cioos_0219e1d6-8dfc-4718-b89b-ea3dff06a70d</td>\n",
       "      <td>Hakai Institute</td>\n",
       "      <td>Eelgrass Extent - Coastal British Columbia</td>\n",
       "      <td>CC-BY-4.0</td>\n",
       "      <td>False</td>\n",
       "      <td>NaN</td>\n",
       "      <td>completed</td>\n",
       "      <td>active</td>\n",
       "      <td>dataset</td>\n",
       "      <td>Hakai Institute</td>\n",
       "      <td>1</td>\n",
       "      <td>{'type': 'Polygon', 'coordinates': [[[-133.784...</td>\n",
       "      <td>[{'max': '50.0', 'min': '0.0'}]</td>\n",
       "      <td>other, seagrassCoverAndComposition</td>\n",
       "      <td>NaN</td>\n",
       "      <td>NaN</td>\n",
       "    </tr>\n",
       "    <tr>\n",
       "      <th>3</th>\n",
       "      <td>bb8eb8d3-37d0-451f-ae77-fdcca9844223</td>\n",
       "      <td>ca-cioos_0e4f324c-6498-4c89-9e19-f2f9f474a1df</td>\n",
       "      <td>Hakai Institute</td>\n",
       "      <td>LiDAR-derived Drainage Network for Calvert Isl...</td>\n",
       "      <td>CC-BY-4.0</td>\n",
       "      <td>False</td>\n",
       "      <td>NaN</td>\n",
       "      <td>completed</td>\n",
       "      <td>active</td>\n",
       "      <td>dataset</td>\n",
       "      <td>Hakai Institute</td>\n",
       "      <td>2</td>\n",
       "      <td>{'type': 'Polygon', 'coordinates': [[[-128.16,...</td>\n",
       "      <td>[{'max': '1014.0', 'min': '0.0'}]</td>\n",
       "      <td>other</td>\n",
       "      <td>NaN</td>\n",
       "      <td>NaN</td>\n",
       "    </tr>\n",
       "    <tr>\n",
       "      <th>4</th>\n",
       "      <td>0b2d2b69-9a1c-493f-9769-ae94eac40ca5</td>\n",
       "      <td>ca-cioos_0e446321-34f3-4d5a-8c7d-79c89eb76373</td>\n",
       "      <td>Hakai Institute</td>\n",
       "      <td>Stream temperature time-series – Calvert Islan...</td>\n",
       "      <td>CC-BY-4.0</td>\n",
       "      <td>False</td>\n",
       "      <td>NaN</td>\n",
       "      <td>onGoing</td>\n",
       "      <td>active</td>\n",
       "      <td>dataset</td>\n",
       "      <td>Hakai Institute</td>\n",
       "      <td>1</td>\n",
       "      <td>{'type': 'Polygon', 'coordinates': [[[-128.259...</td>\n",
       "      <td>[{'max': '0.0', 'min': '0.0'}]</td>\n",
       "      <td>other</td>\n",
       "      <td>NaN</td>\n",
       "      <td>NaN</td>\n",
       "    </tr>\n",
       "    <tr>\n",
       "      <th>...</th>\n",
       "      <td>...</td>\n",
       "      <td>...</td>\n",
       "      <td>...</td>\n",
       "      <td>...</td>\n",
       "      <td>...</td>\n",
       "      <td>...</td>\n",
       "      <td>...</td>\n",
       "      <td>...</td>\n",
       "      <td>...</td>\n",
       "      <td>...</td>\n",
       "      <td>...</td>\n",
       "      <td>...</td>\n",
       "      <td>...</td>\n",
       "      <td>...</td>\n",
       "      <td>...</td>\n",
       "      <td>...</td>\n",
       "      <td>...</td>\n",
       "    </tr>\n",
       "    <tr>\n",
       "      <th>212</th>\n",
       "      <td>d1621e4f-3a74-4bb0-981a-34d4d62f9e3f</td>\n",
       "      <td>ca-cioos_fe76ef4c-254a-44fe-87bc-052cd3aa9663</td>\n",
       "      <td>Hakai Institute</td>\n",
       "      <td>High-Resolution Record of Surface Seawater Car...</td>\n",
       "      <td>CC-BY-4.0</td>\n",
       "      <td>False</td>\n",
       "      <td>NaN</td>\n",
       "      <td>onGoing</td>\n",
       "      <td>active</td>\n",
       "      <td>dataset</td>\n",
       "      <td>Hakai Institute</td>\n",
       "      <td>2</td>\n",
       "      <td>{'type': 'Point', 'coordinates': [-125.222, 50...</td>\n",
       "      <td>[{'max': '2.0', 'min': '0.0'}]</td>\n",
       "      <td>seaSurfaceTemperature, inorganicCarbon, seaSur...</td>\n",
       "      <td>NaN</td>\n",
       "      <td>NaN</td>\n",
       "    </tr>\n",
       "    <tr>\n",
       "      <th>213</th>\n",
       "      <td>24dc985b-9a2d-4fd5-b09e-bb41dd7617c3</td>\n",
       "      <td>ca-cioos_fe20660b-ef3d-4f6b-90f8-5936d9c96cb5</td>\n",
       "      <td>Hakai Institute</td>\n",
       "      <td>20m Digital Elevation Model - Calvert Island</td>\n",
       "      <td>CC-BY-4.0</td>\n",
       "      <td>False</td>\n",
       "      <td>NaN</td>\n",
       "      <td>completed</td>\n",
       "      <td>active</td>\n",
       "      <td>dataset</td>\n",
       "      <td>Hakai Institute</td>\n",
       "      <td>3</td>\n",
       "      <td>{'type': 'Polygon', 'coordinates': [[[-128.164...</td>\n",
       "      <td>[{'max': '0.0', 'min': '0.0'}]</td>\n",
       "      <td>other</td>\n",
       "      <td>NaN</td>\n",
       "      <td>NaN</td>\n",
       "    </tr>\n",
       "    <tr>\n",
       "      <th>214</th>\n",
       "      <td>8ede3f9c-b985-4e82-b530-3704ac46ab64</td>\n",
       "      <td>ca-cioos_f00b9c87-190e-4b89-a864-7c012b989e49</td>\n",
       "      <td>Hakai Institute</td>\n",
       "      <td>High-resolution record of surface seawater CO2...</td>\n",
       "      <td>CC-BY-4.0</td>\n",
       "      <td>False</td>\n",
       "      <td>NaN</td>\n",
       "      <td>completed</td>\n",
       "      <td>active</td>\n",
       "      <td>dataset</td>\n",
       "      <td>Hakai Institute</td>\n",
       "      <td>2</td>\n",
       "      <td>{'type': 'Polygon', 'coordinates': [[[-125.222...</td>\n",
       "      <td>[{'max': '1.0', 'min': '0.0'}]</td>\n",
       "      <td>other, dissolvedOrganicCarbon</td>\n",
       "      <td>NaN</td>\n",
       "      <td>NaN</td>\n",
       "    </tr>\n",
       "    <tr>\n",
       "      <th>215</th>\n",
       "      <td>736679b3-89d6-4168-84b7-38b81b563f14</td>\n",
       "      <td>ca-cioos_feef912f-363f-431b-a8e5-0ec13bd5e062</td>\n",
       "      <td>Hakai Institute</td>\n",
       "      <td>Real-Time Provisional High-Resolution Record o...</td>\n",
       "      <td>CC-BY-4.0</td>\n",
       "      <td>False</td>\n",
       "      <td>NaN</td>\n",
       "      <td>onGoing</td>\n",
       "      <td>active</td>\n",
       "      <td>dataset</td>\n",
       "      <td>Hakai Institute</td>\n",
       "      <td>1</td>\n",
       "      <td>{'type': 'Point', 'coordinates': [-149.4428, 6...</td>\n",
       "      <td>[{'max': '20.0', 'min': '20.0'}]</td>\n",
       "      <td>seaSurfaceTemperature, inorganicCarbon, seaSur...</td>\n",
       "      <td>&lt;a title='736679b3-89d6-4168-84b7-38b81b563f14...</td>\n",
       "      <td>&lt;a href='https://catalogue.hakai.org/dataset/c...</td>\n",
       "    </tr>\n",
       "    <tr>\n",
       "      <th>216</th>\n",
       "      <td>9b8d9495-d848-440c-a5b6-8eb74f29a15c</td>\n",
       "      <td>ca-cioos_ff68a559-3de8-4ad0-9367-79697d7cc897</td>\n",
       "      <td>Hakai Institute</td>\n",
       "      <td>Dissolved organic carbon fluxes of seven water...</td>\n",
       "      <td>CC-BY-4.0</td>\n",
       "      <td>False</td>\n",
       "      <td>NaN</td>\n",
       "      <td>completed</td>\n",
       "      <td>active</td>\n",
       "      <td>dataset</td>\n",
       "      <td>Hakai Institute</td>\n",
       "      <td>2</td>\n",
       "      <td>{'type': 'Polygon', 'coordinates': [[[-128.177...</td>\n",
       "      <td>[{'max': '0.0', 'min': '0.0'}]</td>\n",
       "      <td>dissolvedOrganicCarbon, other</td>\n",
       "      <td>NaN</td>\n",
       "      <td>NaN</td>\n",
       "    </tr>\n",
       "  </tbody>\n",
       "</table>\n",
       "<p>217 rows × 17 columns</p>\n",
       "</div>"
      ],
      "text/plain": [
       "                                       id  \\\n",
       "0    f2158f39-9a74-4f33-bd11-f2370d543a24   \n",
       "1    8fcbc2f9-06bb-4510-8bc1-4ba0488d4ac5   \n",
       "2    d875b549-2a4c-4f4a-b389-69c97a26f506   \n",
       "3    bb8eb8d3-37d0-451f-ae77-fdcca9844223   \n",
       "4    0b2d2b69-9a1c-493f-9769-ae94eac40ca5   \n",
       "..                                    ...   \n",
       "212  d1621e4f-3a74-4bb0-981a-34d4d62f9e3f   \n",
       "213  24dc985b-9a2d-4fd5-b09e-bb41dd7617c3   \n",
       "214  8ede3f9c-b985-4e82-b530-3704ac46ab64   \n",
       "215  736679b3-89d6-4168-84b7-38b81b563f14   \n",
       "216  9b8d9495-d848-440c-a5b6-8eb74f29a15c   \n",
       "\n",
       "                                              name     organization  \\\n",
       "0    ca-cioos_0c8692f0-a103-4681-9247-9bb69c6e222e  Hakai Institute   \n",
       "1    ca-cioos_0ebfdd89-61d6-453c-870a-83167617b26a  Hakai Institute   \n",
       "2    ca-cioos_0219e1d6-8dfc-4718-b89b-ea3dff06a70d  Hakai Institute   \n",
       "3    ca-cioos_0e4f324c-6498-4c89-9e19-f2f9f474a1df  Hakai Institute   \n",
       "4    ca-cioos_0e446321-34f3-4d5a-8c7d-79c89eb76373  Hakai Institute   \n",
       "..                                             ...              ...   \n",
       "212  ca-cioos_fe76ef4c-254a-44fe-87bc-052cd3aa9663  Hakai Institute   \n",
       "213  ca-cioos_fe20660b-ef3d-4f6b-90f8-5936d9c96cb5  Hakai Institute   \n",
       "214  ca-cioos_f00b9c87-190e-4b89-a864-7c012b989e49  Hakai Institute   \n",
       "215  ca-cioos_feef912f-363f-431b-a8e5-0ec13bd5e062  Hakai Institute   \n",
       "216  ca-cioos_ff68a559-3de8-4ad0-9367-79697d7cc897  Hakai Institute   \n",
       "\n",
       "                                                 title    licence  private  \\\n",
       "0    Kelp Canopy Extent - 2015 - NW Calvert Island ...  CC-BY-4.0    False   \n",
       "1    Glacier and Icefield Mapping - British Columbi...  CC-BY-4.0    False   \n",
       "2           Eelgrass Extent - Coastal British Columbia  CC-BY-4.0    False   \n",
       "3    LiDAR-derived Drainage Network for Calvert Isl...  CC-BY-4.0    False   \n",
       "4    Stream temperature time-series – Calvert Islan...  CC-BY-4.0    False   \n",
       "..                                                 ...        ...      ...   \n",
       "212  High-Resolution Record of Surface Seawater Car...  CC-BY-4.0    False   \n",
       "213       20m Digital Elevation Model - Calvert Island  CC-BY-4.0    False   \n",
       "214  High-resolution record of surface seawater CO2...  CC-BY-4.0    False   \n",
       "215  Real-Time Provisional High-Resolution Record o...  CC-BY-4.0    False   \n",
       "216  Dissolved organic carbon fluxes of seven water...  CC-BY-4.0    False   \n",
       "\n",
       "    projects   progress   state     type      distributor  resources_count  \\\n",
       "0        NaN  completed  active  dataset  Hakai Institute                2   \n",
       "1        NaN  completed  active  dataset  Hakai Institute                2   \n",
       "2        NaN  completed  active  dataset  Hakai Institute                1   \n",
       "3        NaN  completed  active  dataset  Hakai Institute                2   \n",
       "4        NaN    onGoing  active  dataset  Hakai Institute                1   \n",
       "..       ...        ...     ...      ...              ...              ...   \n",
       "212      NaN    onGoing  active  dataset  Hakai Institute                2   \n",
       "213      NaN  completed  active  dataset  Hakai Institute                3   \n",
       "214      NaN  completed  active  dataset  Hakai Institute                2   \n",
       "215      NaN    onGoing  active  dataset  Hakai Institute                1   \n",
       "216      NaN  completed  active  dataset  Hakai Institute                2   \n",
       "\n",
       "                                               spatial  \\\n",
       "0    {'type': 'Polygon', 'coordinates': [[[-128.175...   \n",
       "1    {'type': 'Polygon', 'coordinates': [[[-127.4, ...   \n",
       "2    {'type': 'Polygon', 'coordinates': [[[-133.784...   \n",
       "3    {'type': 'Polygon', 'coordinates': [[[-128.16,...   \n",
       "4    {'type': 'Polygon', 'coordinates': [[[-128.259...   \n",
       "..                                                 ...   \n",
       "212  {'type': 'Point', 'coordinates': [-125.222, 50...   \n",
       "213  {'type': 'Polygon', 'coordinates': [[[-128.164...   \n",
       "214  {'type': 'Polygon', 'coordinates': [[[-125.222...   \n",
       "215  {'type': 'Point', 'coordinates': [-149.4428, 6...   \n",
       "216  {'type': 'Polygon', 'coordinates': [[[-128.177...   \n",
       "\n",
       "                       vertical-extent  \\\n",
       "0      [{'max': '10.0', 'min': '0.0'}]   \n",
       "1    [{'max': '2000.0', 'min': '0.0'}]   \n",
       "2      [{'max': '50.0', 'min': '0.0'}]   \n",
       "3    [{'max': '1014.0', 'min': '0.0'}]   \n",
       "4       [{'max': '0.0', 'min': '0.0'}]   \n",
       "..                                 ...   \n",
       "212     [{'max': '2.0', 'min': '0.0'}]   \n",
       "213     [{'max': '0.0', 'min': '0.0'}]   \n",
       "214     [{'max': '1.0', 'min': '0.0'}]   \n",
       "215   [{'max': '20.0', 'min': '20.0'}]   \n",
       "216     [{'max': '0.0', 'min': '0.0'}]   \n",
       "\n",
       "                                                   eov  \\\n",
       "0           other, macroalgalCanopyCoverAndComposition   \n",
       "1                                                other   \n",
       "2                   other, seagrassCoverAndComposition   \n",
       "3                                                other   \n",
       "4                                                other   \n",
       "..                                                 ...   \n",
       "212  seaSurfaceTemperature, inorganicCarbon, seaSur...   \n",
       "213                                              other   \n",
       "214                      other, dissolvedOrganicCarbon   \n",
       "215  seaSurfaceTemperature, inorganicCarbon, seaSur...   \n",
       "216                      dissolvedOrganicCarbon, other   \n",
       "\n",
       "                                                issues  \\\n",
       "0                                                  NaN   \n",
       "1                                                  NaN   \n",
       "2                                                  NaN   \n",
       "3                                                  NaN   \n",
       "4                                                  NaN   \n",
       "..                                                 ...   \n",
       "212                                                NaN   \n",
       "213                                                NaN   \n",
       "214                                                NaN   \n",
       "215  <a title='736679b3-89d6-4168-84b7-38b81b563f14...   \n",
       "216                                                NaN   \n",
       "\n",
       "                                                 links  \n",
       "0                                                  NaN  \n",
       "1                                                  NaN  \n",
       "2                                                  NaN  \n",
       "3                                                  NaN  \n",
       "4                                                  NaN  \n",
       "..                                                 ...  \n",
       "212                                                NaN  \n",
       "213                                                NaN  \n",
       "214                                                NaN  \n",
       "215  <a href='https://catalogue.hakai.org/dataset/c...  \n",
       "216                                                NaN  \n",
       "\n",
       "[217 rows x 17 columns]"
      ]
     },
     "execution_count": 58,
     "metadata": {},
     "output_type": "execute_result"
    }
   ],
   "source": [
    "records"
   ]
  },
  {
   "cell_type": "code",
   "execution_count": 65,
   "metadata": {},
   "outputs": [
    {
     "data": {
      "application/vnd.plotly.v1+json": {
       "config": {
        "plotlyServerURL": "https://plot.ly"
       },
       "data": [
        {
         "customdata": [
          [
           "Glacier and Ice Field Mapping - 2021 - Airborne Coastal Observatory"
          ],
          [
           "Fraser River - BCSRIF Landslide Mapping – 2022 – Hakai Airborne Coastal Observatory"
          ],
          [
           "Nearshore substrate classification - Northwest Calvert Island, BC (2015-2017)"
          ],
          [
           "Nearshore substrate classification - Northwest Calvert Island, BC (2015-2017)"
          ],
          [
           "Nearshore substrate classification - Northwest Calvert Island, BC (2015-2017)"
          ],
          [
           "Nearshore substrate classification - Northwest Calvert Island, BC (2015-2017)"
          ],
          [
           "Nearshore substrate classification - Northwest Calvert Island, BC (2015-2017)"
          ],
          [
           "Avian and paired Vegetation data from 100 Islands Project (BC Central Coast) Hakai Institute - 2015-2017"
          ],
          [
           "Mount Robson BC Parks Survey - 2022 - Hakai Airborne Coastal Observatory"
          ],
          [
           "Juvenile Salmon Migration Dynamics in the Discovery Islands and Johnstone Strait; 2015–2017"
          ],
          [
           "Aquatic carbon flux data package for Oliver et al. 2017"
          ],
          [
           "Aquatic carbon flux data package for Oliver et al. 2017"
          ],
          [
           "Aquatic carbon flux data package for Oliver et al. 2017"
          ],
          [
           "Remotely-Piloted Aerial Systems Imagery, Terrain Data, and Derivates - 100 Islands Project, Central Coast, BC, Canada"
          ],
          [
           "Differential infestation of juvenile Pacific salmon by parasitic sea lice in British Columbia, Canada"
          ],
          [
           "Dataset for article: 'Migration timing affects the foraging ecology of Fraser River sockeye salmon stocks in coastal waters of British Columbia, Canada'"
          ],
          [
           "Dataset for article: 'Migration timing affects the foraging ecology of Fraser River sockeye salmon stocks in coastal waters of British Columbia, Canada'"
          ],
          [
           "Rocky subtidal fish and invertebrate swath data from BC Central Coast, v1.2.0"
          ],
          [
           "High-resolution hydrometeorological data from seven small coastal watersheds, British Columbia, Canada, 2013-2019"
          ],
          [
           "Nearshore substrates of the McMullin Group Islands - British Columbia - 2017"
          ],
          [
           "Nearshore substrates of the McMullin Group Islands - British Columbia - 2017"
          ],
          [
           "Nearshore substrates of the McMullin Group Islands - British Columbia - 2017"
          ],
          [
           "Nearshore substrates of the McMullin Group Islands - British Columbia - 2017"
          ],
          [
           "Nearshore substrates of the McMullin Group Islands - British Columbia - 2017"
          ],
          [
           "Ecstall Slide - 2022 - Hakai Airborne Coastal Observatory"
          ],
          [
           "Adjusted Koeye River stage and temperature from 2013 to 2021"
          ],
          [
           "High-resolution time series of surface seawater CO2 content from the OceansAlaska Shellfish Hatchery in Ketchikan, Alaska, USA"
          ],
          [
           "Observed stream flow from seven small coastal watersheds in British Columbia, Canada, Sept 2013 - Sept 2019 Version 5"
          ],
          [
           "Kelp and Seagrass Mapping – 2022 – Hakai Airborne Coastal Observatory"
          ],
          [
           "Kelp and Eelgrass Mapping – BC Central Coast – 2021 - Hakai Airborne Coastal Observatory"
          ],
          [
           "Kelp extent for the McNaughton Group Islands (2017), Manley Island (2017), and Serpent Group Islands (2016), British Columbia, Canada"
          ],
          [
           "Kelp extent for the McNaughton Group Islands (2017), Manley Island (2017), and Serpent Group Islands (2016), British Columbia, Canada"
          ],
          [
           "Hakai Water Properties Vertical Profile Data Measured by Oceanographic Profilers, Provisional"
          ],
          [
           "Biodiversity Surveys of the Gwaxdlala/Nalaxdlala Indigenous Protected and Conserved Area (IPCA) in Knight Inlet, British Columbia"
          ],
          [
           "Botanical Beach Drone Mapping - July 2020"
          ],
          [
           "Juvenile Sockeye Diets Hakai 2015-2016"
          ],
          [
           "Cryosphere - Glaciers and Icefields - 2020 - Airborne Coastal Observatory - British Columbia - Canada"
          ],
          [
           "Bald eagles as vectors of marine nutrients – Central Coast Islands (100 Islands study area) – May – July 2017"
          ],
          [
           "100 Islands Research Program Terrestrial Vegetation Data - BC Central Coast - 2015, 2016, 2017"
          ],
          [
           "Summer sea wrack spatial data; Central Coast, British Columbia, Canada (2015 - 2017)"
          ],
          [
           "Dissolved and particulate organic carbon chemistry for freshwater and marine stations from 2014 through 2016 on Calvert and Hecate Islands, British Columbia, Canada. Version 1.0."
          ],
          [
           "Microbial activity and carbon fluxes in rainforest soil – Tsunami Hill, Calvert Island – June 2015 - April 2016"
          ],
          [
           "High-resolution record of 8-m seawater CO2 content entering Fanny Bay Oysters in Baynes Sound, British Columbia, Canada from March 2017 to November 2017"
          ],
          [
           "Genetic Stock Identification of Juvenile Sockeye Salmon Captured in the Discovery Islands and Johnstone Strait BC, Canada"
          ],
          [
           "Real-Time Provisional High-Resolution Record of Surface Seawater Carbon Dioxide (CO2) Content Collected from Kodiak, Alaska, USA"
          ],
          [
           "Juvenile salmon migration observations in the Discovery Islands and Johnstone Strait in British Columbia, Canada in 2018"
          ],
          [
           "Elliot Creek Landslide – 2022 – Hakai Airborne Coastal Observatory"
          ],
          [
           "Vertical Water Properties Profiles (CTD) from the Hakai Institute Juvenile Salmon Program, Provisional"
          ],
          [
           "Elliot Creek – Homathko Estuary Mapping - 2021 - Airborne Coastal Observatory"
          ],
          [
           "Stream Event Sampling - Calvert Island"
          ],
          [
           "LiDAR-based Ecosystem Classification for Calvert Island"
          ],
          [
           "Stage-Discharge Time Series - Calvert Island - Archived Version 1.0"
          ],
          [
           "Kelp forest communities along an otter gradient"
          ],
          [
           "Pacific Northwest Eelgrass Sediment Carbon Data"
          ],
          [
           "Organic Carbon at Land-Ocean Interface - Calvert Island - 2014-2016"
          ],
          [
           "Spatial extent of eelgrass (Zostera marina) meadows from monitoring sites within Gwaii Haanas (2016, 2017, 2018) mapped using remote piloted aerial systems"
          ],
          [
           "Air temperature and relative humidity time-series – Central Coast and Quadra Island – 2013 - 2019 Version 1.0"
          ],
          [
           "Mapping Canopy-Forming Kelps in the Northeast Pacific: A Guidebook for Decision-Makers and Practitioners"
          ],
          [
           "Cryosphere LiDAR Mapping - 2020 - Airborne Coastal Observatory -British Columbia - Canada"
          ],
          [
           "Cryosphere LiDAR Mapping - 2020 - Airborne Coastal Observatory -British Columbia - Canada"
          ],
          [
           "Ancient Forest Wetlands, BC - Upper Fraser River - 2019 - Airborne Coastal Observatory"
          ],
          [
           "High-resolution record of surface seawater carbon dioxide (CO2) content, water temperature, sea surface salinity and other parameters collected in Sitka Harbor, Alaska, USA"
          ],
          [
           "McMullin Group Kelp Extent - Based on UAS Imagery - 2017"
          ],
          [
           "McMullin Group Kelp Extent - Based on UAS Imagery - 2017"
          ],
          [
           "Daily satellite (Sentinel 3A and 3B) chlorophyll and suspended matter concentrations for coastal British Columbia and southeast Alaska"
          ],
          [
           "Daily satellite (Sentinel 3A and 3B) chlorophyll and suspended matter concentrations for coastal British Columbia and southeast Alaska"
          ],
          [
           "Daily satellite (Sentinel 3A and 3B) chlorophyll and suspended matter concentrations for coastal British Columbia and southeast Alaska"
          ],
          [
           "Hakai Bulk and Size-Fractionated Chlorophyll and Phaeopigment Concentrations Collected by Niskin Bottle, Research"
          ],
          [
           "Hakai Bulk and Size-Fractionated Chlorophyll and Phaeopigment Concentrations Collected by Niskin Bottle, Research"
          ],
          [
           "Namu British Columbia - 2021 - Hakai Institute - Airborne Coastal Observatory"
          ],
          [
           "Gordon River Archaeology - 2022 - Hakai Airborne Coastal Observatory"
          ],
          [
           "Clam Garden Geospatial Data - Quadra Island - 2016"
          ],
          [
           "Ancestral sea gardens supported human settlements for at least 3800 years on the Northwest Coast of North America"
          ],
          [
           "Fatty acids of particulate matter collected from 2015 to 2018 near Quadra Island, British Columbia, Canada"
          ],
          [
           "Juvenile Salmon Migration Observations from the Hakai Institute Juvenile Salmon Program in the Discovery Islands in British Columbia, Canada in 2020"
          ],
          [
           "Observed stream flow from seven small coastal watersheds in British Columbia, Canada, Sept 2013 – April 2019 Version 4.1"
          ],
          [
           "Real-Time Provisional High-Resolution Record of Surface Seawater Carbon Dioxide (CO2) Content Collected from the Ketchikan Shellfish Hatchery, Alaska, USA"
          ],
          [
           "Snow Mapping Coastal British Columbia - 2021 - Airborne Coastal Observatory"
          ],
          [
           "Real-Time Provisional High-Resolution Record of Surface Seawater Carbon Dioxide (CO2) Content Collected from the Alutiiq Pride Shellfish Hatchery , Alaska, USA"
          ]
         ],
         "domain": {
          "x": [
           0,
           1
          ],
          "y": [
           0,
           1
          ]
         },
         "hovertemplate": "message=%{label}<br>title=%{customdata[0]}<extra></extra>",
         "labels": [
          "Invalid distributor organisation-name=Hakai Geospatial",
          "Invalid distributor organisation-name=Hakai Geospatial",
          "Invalid resources[...].url.status_code=404",
          "Empty resource name",
          "Invalid resource format: resources[...].format=PDF",
          "Empty resource name",
          "Invalid resource format: resources[...].format=PDF",
          "Invalid resources[...].url.status_code=403",
          "Invalid distributor organisation-name=Hakai Geospatial",
          "Invalid resource format: resources[...].format=PDF",
          "Invalid resources[...].url.status_code=401",
          "Invalid resources[...].url.status_code=401",
          "Invalid resources[...].url.status_code=403",
          "Invalid distributor organisation-name=Hakai Geospatial",
          "Invalid resources[...].url.status_code=403",
          "Invalid distributor organisation-name=University of British Columbia",
          "Invalid resource format: resources[...].format=ZIP",
          "Invalid distributor organisation-name=Hakai institute",
          "Invalid distributor organisation-name=Hakai Institue",
          "Invalid resources[...].url.status_code=404",
          "Empty resource name",
          "Invalid resource format: resources[...].format=PDF",
          "Empty resource name",
          "Invalid resource format: resources[...].format=PDF",
          "Invalid distributor organisation-name=Hakai Geospatial",
          "Invalid distributor organisation-name=Wild Salmon Centre",
          "Invalid resources[...].url.status_code=401",
          "Invalid distributor organisation-name=Hakai Institute - Vancouver Island University",
          "Invalid distributor organisation-name=Hakai Geospatial",
          "Invalid distributor organisation-name=Hakai Geospatial",
          "Empty resource name",
          "Invalid resource format: resources[...].format=PDF",
          "Invalid resource format: resources[...].format=PDF",
          "Invalid resources[...].url.status_code=403",
          "Invalid resources[...].url.status_code=404",
          "Invalid distributor organisation-name=University of British Columbia",
          "Invalid licence=CC-BY-NC-4.0",
          "Invalid distributor organisation-name=University of Victoria",
          "Invalid distributor organisation-name=Hakai Geospatial",
          "Invalid resource format: resources[...].format=PDF",
          "Invalid distributor organisation-name=",
          "Invalid distributor organisation-name=University of British Columbia",
          "Invalid resources[...].url.status_code=401",
          "Invalid resource format: resources[...].format=ZIP",
          "Invalid resources[...].url.status_code=404",
          "Invalid resource format: resources[...].format=PDF",
          "Invalid distributor organisation-name=Hakai Geospatial",
          "Invalid resource format: resources[...].format=PDF",
          "Invalid distributor organisation-name=Hakai Geospatial",
          "Invalid resources[...].url.status_code=404",
          "Invalid distributor organisation-name=University of Victoria",
          "Invalid distributor organisation-name=Hakai Institute - Vancouver Island University",
          "Invalid distributor organisation-name=Simon Fraser University",
          "Invalid resources[...].url.status_code=403",
          "Invalid distributor organisation-name=",
          "Invalid licence=CC-BY-NC-ND-4.0",
          "Invalid resources[...].url.status_code=404",
          "Invalid licence=CC-BY-NC-4.0",
          "Invalid licence=CC-BY-NC-4.0",
          "Invalid distributor organisation-name=Hakai Geospatial",
          "Invalid resources[...].url.status_code=401",
          "Invalid resources[...].url.status_code=401",
          "Invalid resources[...].url.status_code=404",
          "Empty resource name",
          "Invalid resources[...].url.status_code=404",
          "Invalid resources[...].url.status_code=418",
          "Invalid resources[...].url.status_code=418",
          "Invalid resource format: resources[...].format=PDF",
          "Invalid resources[...].url.status_code=404",
          "Invalid distributor organisation-name=Hakai Geospatial",
          "Invalid distributor organisation-name=Hakai Geospatial",
          "Invalid resources[...].url.status_code=403",
          "Invalid licence=CC-BY-NC-4.0",
          "Invalid distributor organisation-name=University of British Columbia",
          "Invalid resource format: resources[...].format=PDF",
          "Invalid distributor organisation-name=Hakai Institute - McGill University",
          "Invalid resources[...].url.status_code=404",
          "Invalid distributor organisation-name=Hakai Geospatial",
          "Invalid resources[...].url.status_code=404"
         ],
         "legendgroup": "",
         "name": "",
         "showlegend": true,
         "textposition": "inside",
         "type": "pie"
        }
       ],
       "layout": {
        "legend": {
         "tracegroupgap": 0
        },
        "template": {
         "data": {
          "bar": [
           {
            "error_x": {
             "color": "#2a3f5f"
            },
            "error_y": {
             "color": "#2a3f5f"
            },
            "marker": {
             "line": {
              "color": "#E5ECF6",
              "width": 0.5
             },
             "pattern": {
              "fillmode": "overlay",
              "size": 10,
              "solidity": 0.2
             }
            },
            "type": "bar"
           }
          ],
          "barpolar": [
           {
            "marker": {
             "line": {
              "color": "#E5ECF6",
              "width": 0.5
             },
             "pattern": {
              "fillmode": "overlay",
              "size": 10,
              "solidity": 0.2
             }
            },
            "type": "barpolar"
           }
          ],
          "carpet": [
           {
            "aaxis": {
             "endlinecolor": "#2a3f5f",
             "gridcolor": "white",
             "linecolor": "white",
             "minorgridcolor": "white",
             "startlinecolor": "#2a3f5f"
            },
            "baxis": {
             "endlinecolor": "#2a3f5f",
             "gridcolor": "white",
             "linecolor": "white",
             "minorgridcolor": "white",
             "startlinecolor": "#2a3f5f"
            },
            "type": "carpet"
           }
          ],
          "choropleth": [
           {
            "colorbar": {
             "outlinewidth": 0,
             "ticks": ""
            },
            "type": "choropleth"
           }
          ],
          "contour": [
           {
            "colorbar": {
             "outlinewidth": 0,
             "ticks": ""
            },
            "colorscale": [
             [
              0,
              "#0d0887"
             ],
             [
              0.1111111111111111,
              "#46039f"
             ],
             [
              0.2222222222222222,
              "#7201a8"
             ],
             [
              0.3333333333333333,
              "#9c179e"
             ],
             [
              0.4444444444444444,
              "#bd3786"
             ],
             [
              0.5555555555555556,
              "#d8576b"
             ],
             [
              0.6666666666666666,
              "#ed7953"
             ],
             [
              0.7777777777777778,
              "#fb9f3a"
             ],
             [
              0.8888888888888888,
              "#fdca26"
             ],
             [
              1,
              "#f0f921"
             ]
            ],
            "type": "contour"
           }
          ],
          "contourcarpet": [
           {
            "colorbar": {
             "outlinewidth": 0,
             "ticks": ""
            },
            "type": "contourcarpet"
           }
          ],
          "heatmap": [
           {
            "colorbar": {
             "outlinewidth": 0,
             "ticks": ""
            },
            "colorscale": [
             [
              0,
              "#0d0887"
             ],
             [
              0.1111111111111111,
              "#46039f"
             ],
             [
              0.2222222222222222,
              "#7201a8"
             ],
             [
              0.3333333333333333,
              "#9c179e"
             ],
             [
              0.4444444444444444,
              "#bd3786"
             ],
             [
              0.5555555555555556,
              "#d8576b"
             ],
             [
              0.6666666666666666,
              "#ed7953"
             ],
             [
              0.7777777777777778,
              "#fb9f3a"
             ],
             [
              0.8888888888888888,
              "#fdca26"
             ],
             [
              1,
              "#f0f921"
             ]
            ],
            "type": "heatmap"
           }
          ],
          "heatmapgl": [
           {
            "colorbar": {
             "outlinewidth": 0,
             "ticks": ""
            },
            "colorscale": [
             [
              0,
              "#0d0887"
             ],
             [
              0.1111111111111111,
              "#46039f"
             ],
             [
              0.2222222222222222,
              "#7201a8"
             ],
             [
              0.3333333333333333,
              "#9c179e"
             ],
             [
              0.4444444444444444,
              "#bd3786"
             ],
             [
              0.5555555555555556,
              "#d8576b"
             ],
             [
              0.6666666666666666,
              "#ed7953"
             ],
             [
              0.7777777777777778,
              "#fb9f3a"
             ],
             [
              0.8888888888888888,
              "#fdca26"
             ],
             [
              1,
              "#f0f921"
             ]
            ],
            "type": "heatmapgl"
           }
          ],
          "histogram": [
           {
            "marker": {
             "pattern": {
              "fillmode": "overlay",
              "size": 10,
              "solidity": 0.2
             }
            },
            "type": "histogram"
           }
          ],
          "histogram2d": [
           {
            "colorbar": {
             "outlinewidth": 0,
             "ticks": ""
            },
            "colorscale": [
             [
              0,
              "#0d0887"
             ],
             [
              0.1111111111111111,
              "#46039f"
             ],
             [
              0.2222222222222222,
              "#7201a8"
             ],
             [
              0.3333333333333333,
              "#9c179e"
             ],
             [
              0.4444444444444444,
              "#bd3786"
             ],
             [
              0.5555555555555556,
              "#d8576b"
             ],
             [
              0.6666666666666666,
              "#ed7953"
             ],
             [
              0.7777777777777778,
              "#fb9f3a"
             ],
             [
              0.8888888888888888,
              "#fdca26"
             ],
             [
              1,
              "#f0f921"
             ]
            ],
            "type": "histogram2d"
           }
          ],
          "histogram2dcontour": [
           {
            "colorbar": {
             "outlinewidth": 0,
             "ticks": ""
            },
            "colorscale": [
             [
              0,
              "#0d0887"
             ],
             [
              0.1111111111111111,
              "#46039f"
             ],
             [
              0.2222222222222222,
              "#7201a8"
             ],
             [
              0.3333333333333333,
              "#9c179e"
             ],
             [
              0.4444444444444444,
              "#bd3786"
             ],
             [
              0.5555555555555556,
              "#d8576b"
             ],
             [
              0.6666666666666666,
              "#ed7953"
             ],
             [
              0.7777777777777778,
              "#fb9f3a"
             ],
             [
              0.8888888888888888,
              "#fdca26"
             ],
             [
              1,
              "#f0f921"
             ]
            ],
            "type": "histogram2dcontour"
           }
          ],
          "mesh3d": [
           {
            "colorbar": {
             "outlinewidth": 0,
             "ticks": ""
            },
            "type": "mesh3d"
           }
          ],
          "parcoords": [
           {
            "line": {
             "colorbar": {
              "outlinewidth": 0,
              "ticks": ""
             }
            },
            "type": "parcoords"
           }
          ],
          "pie": [
           {
            "automargin": true,
            "type": "pie"
           }
          ],
          "scatter": [
           {
            "fillpattern": {
             "fillmode": "overlay",
             "size": 10,
             "solidity": 0.2
            },
            "type": "scatter"
           }
          ],
          "scatter3d": [
           {
            "line": {
             "colorbar": {
              "outlinewidth": 0,
              "ticks": ""
             }
            },
            "marker": {
             "colorbar": {
              "outlinewidth": 0,
              "ticks": ""
             }
            },
            "type": "scatter3d"
           }
          ],
          "scattercarpet": [
           {
            "marker": {
             "colorbar": {
              "outlinewidth": 0,
              "ticks": ""
             }
            },
            "type": "scattercarpet"
           }
          ],
          "scattergeo": [
           {
            "marker": {
             "colorbar": {
              "outlinewidth": 0,
              "ticks": ""
             }
            },
            "type": "scattergeo"
           }
          ],
          "scattergl": [
           {
            "marker": {
             "colorbar": {
              "outlinewidth": 0,
              "ticks": ""
             }
            },
            "type": "scattergl"
           }
          ],
          "scattermapbox": [
           {
            "marker": {
             "colorbar": {
              "outlinewidth": 0,
              "ticks": ""
             }
            },
            "type": "scattermapbox"
           }
          ],
          "scatterpolar": [
           {
            "marker": {
             "colorbar": {
              "outlinewidth": 0,
              "ticks": ""
             }
            },
            "type": "scatterpolar"
           }
          ],
          "scatterpolargl": [
           {
            "marker": {
             "colorbar": {
              "outlinewidth": 0,
              "ticks": ""
             }
            },
            "type": "scatterpolargl"
           }
          ],
          "scatterternary": [
           {
            "marker": {
             "colorbar": {
              "outlinewidth": 0,
              "ticks": ""
             }
            },
            "type": "scatterternary"
           }
          ],
          "surface": [
           {
            "colorbar": {
             "outlinewidth": 0,
             "ticks": ""
            },
            "colorscale": [
             [
              0,
              "#0d0887"
             ],
             [
              0.1111111111111111,
              "#46039f"
             ],
             [
              0.2222222222222222,
              "#7201a8"
             ],
             [
              0.3333333333333333,
              "#9c179e"
             ],
             [
              0.4444444444444444,
              "#bd3786"
             ],
             [
              0.5555555555555556,
              "#d8576b"
             ],
             [
              0.6666666666666666,
              "#ed7953"
             ],
             [
              0.7777777777777778,
              "#fb9f3a"
             ],
             [
              0.8888888888888888,
              "#fdca26"
             ],
             [
              1,
              "#f0f921"
             ]
            ],
            "type": "surface"
           }
          ],
          "table": [
           {
            "cells": {
             "fill": {
              "color": "#EBF0F8"
             },
             "line": {
              "color": "white"
             }
            },
            "header": {
             "fill": {
              "color": "#C8D4E3"
             },
             "line": {
              "color": "white"
             }
            },
            "type": "table"
           }
          ]
         },
         "layout": {
          "annotationdefaults": {
           "arrowcolor": "#2a3f5f",
           "arrowhead": 0,
           "arrowwidth": 1
          },
          "autotypenumbers": "strict",
          "coloraxis": {
           "colorbar": {
            "outlinewidth": 0,
            "ticks": ""
           }
          },
          "colorscale": {
           "diverging": [
            [
             0,
             "#8e0152"
            ],
            [
             0.1,
             "#c51b7d"
            ],
            [
             0.2,
             "#de77ae"
            ],
            [
             0.3,
             "#f1b6da"
            ],
            [
             0.4,
             "#fde0ef"
            ],
            [
             0.5,
             "#f7f7f7"
            ],
            [
             0.6,
             "#e6f5d0"
            ],
            [
             0.7,
             "#b8e186"
            ],
            [
             0.8,
             "#7fbc41"
            ],
            [
             0.9,
             "#4d9221"
            ],
            [
             1,
             "#276419"
            ]
           ],
           "sequential": [
            [
             0,
             "#0d0887"
            ],
            [
             0.1111111111111111,
             "#46039f"
            ],
            [
             0.2222222222222222,
             "#7201a8"
            ],
            [
             0.3333333333333333,
             "#9c179e"
            ],
            [
             0.4444444444444444,
             "#bd3786"
            ],
            [
             0.5555555555555556,
             "#d8576b"
            ],
            [
             0.6666666666666666,
             "#ed7953"
            ],
            [
             0.7777777777777778,
             "#fb9f3a"
            ],
            [
             0.8888888888888888,
             "#fdca26"
            ],
            [
             1,
             "#f0f921"
            ]
           ],
           "sequentialminus": [
            [
             0,
             "#0d0887"
            ],
            [
             0.1111111111111111,
             "#46039f"
            ],
            [
             0.2222222222222222,
             "#7201a8"
            ],
            [
             0.3333333333333333,
             "#9c179e"
            ],
            [
             0.4444444444444444,
             "#bd3786"
            ],
            [
             0.5555555555555556,
             "#d8576b"
            ],
            [
             0.6666666666666666,
             "#ed7953"
            ],
            [
             0.7777777777777778,
             "#fb9f3a"
            ],
            [
             0.8888888888888888,
             "#fdca26"
            ],
            [
             1,
             "#f0f921"
            ]
           ]
          },
          "colorway": [
           "#636efa",
           "#EF553B",
           "#00cc96",
           "#ab63fa",
           "#FFA15A",
           "#19d3f3",
           "#FF6692",
           "#B6E880",
           "#FF97FF",
           "#FECB52"
          ],
          "font": {
           "color": "#2a3f5f"
          },
          "geo": {
           "bgcolor": "white",
           "lakecolor": "white",
           "landcolor": "#E5ECF6",
           "showlakes": true,
           "showland": true,
           "subunitcolor": "white"
          },
          "hoverlabel": {
           "align": "left"
          },
          "hovermode": "closest",
          "mapbox": {
           "style": "light"
          },
          "paper_bgcolor": "white",
          "plot_bgcolor": "#E5ECF6",
          "polar": {
           "angularaxis": {
            "gridcolor": "white",
            "linecolor": "white",
            "ticks": ""
           },
           "bgcolor": "#E5ECF6",
           "radialaxis": {
            "gridcolor": "white",
            "linecolor": "white",
            "ticks": ""
           }
          },
          "scene": {
           "xaxis": {
            "backgroundcolor": "#E5ECF6",
            "gridcolor": "white",
            "gridwidth": 2,
            "linecolor": "white",
            "showbackground": true,
            "ticks": "",
            "zerolinecolor": "white"
           },
           "yaxis": {
            "backgroundcolor": "#E5ECF6",
            "gridcolor": "white",
            "gridwidth": 2,
            "linecolor": "white",
            "showbackground": true,
            "ticks": "",
            "zerolinecolor": "white"
           },
           "zaxis": {
            "backgroundcolor": "#E5ECF6",
            "gridcolor": "white",
            "gridwidth": 2,
            "linecolor": "white",
            "showbackground": true,
            "ticks": "",
            "zerolinecolor": "white"
           }
          },
          "shapedefaults": {
           "line": {
            "color": "#2a3f5f"
           }
          },
          "ternary": {
           "aaxis": {
            "gridcolor": "white",
            "linecolor": "white",
            "ticks": ""
           },
           "baxis": {
            "gridcolor": "white",
            "linecolor": "white",
            "ticks": ""
           },
           "bgcolor": "#E5ECF6",
           "caxis": {
            "gridcolor": "white",
            "linecolor": "white",
            "ticks": ""
           }
          },
          "title": {
           "x": 0.05
          },
          "xaxis": {
           "automargin": true,
           "gridcolor": "white",
           "linecolor": "white",
           "ticks": "",
           "title": {
            "standoff": 15
           },
           "zerolinecolor": "white",
           "zerolinewidth": 2
          },
          "yaxis": {
           "automargin": true,
           "gridcolor": "white",
           "linecolor": "white",
           "ticks": "",
           "title": {
            "standoff": 15
           },
           "zerolinecolor": "white",
           "zerolinewidth": 2
          }
         }
        },
        "title": {
         "text": "Hakai Records Issues Distribution"
        },
        "uniformtext": {
         "minsize": 12,
         "mode": "hide"
        }
       }
      }
     },
     "metadata": {},
     "output_type": "display_data"
    }
   ],
   "source": [
    "standardized_issues = issues.copy()\n",
    "standardized_issues['message'] = standardized_issues['message'].str.replace('resources\\[[0-9]+\\]','resources[...]',regex=True)\n",
    "standardized_issues = standardized_issues.merge(records, left_on='record_id', right_on='id')\n",
    "fig= px.pie(standardized_issues, names='message',title='Hakai Records Issues Distribution',hover_data=['title'])\n",
    "fig.update_traces(textposition='inside')\n",
    "fig.update_layout(uniformtext_minsize=12, uniformtext_mode='hide')"
   ]
  },
  {
   "cell_type": "code",
   "execution_count": 60,
   "metadata": {},
   "outputs": [
    {
     "data": {
      "text/html": [
       "<div>\n",
       "<style scoped>\n",
       "    .dataframe tbody tr th:only-of-type {\n",
       "        vertical-align: middle;\n",
       "    }\n",
       "\n",
       "    .dataframe tbody tr th {\n",
       "        vertical-align: top;\n",
       "    }\n",
       "\n",
       "    .dataframe thead th {\n",
       "        text-align: right;\n",
       "    }\n",
       "</style>\n",
       "<table border=\"1\" class=\"dataframe\">\n",
       "  <thead>\n",
       "    <tr style=\"text-align: right;\">\n",
       "      <th></th>\n",
       "      <th>record_id</th>\n",
       "      <th>level</th>\n",
       "      <th>message</th>\n",
       "      <th>id</th>\n",
       "      <th>name</th>\n",
       "      <th>organization</th>\n",
       "      <th>title</th>\n",
       "      <th>licence</th>\n",
       "      <th>private</th>\n",
       "      <th>projects</th>\n",
       "      <th>progress</th>\n",
       "      <th>state</th>\n",
       "      <th>type</th>\n",
       "      <th>distributor</th>\n",
       "      <th>resources_count</th>\n",
       "      <th>spatial</th>\n",
       "      <th>vertical-extent</th>\n",
       "      <th>eov</th>\n",
       "      <th>issues</th>\n",
       "      <th>links</th>\n",
       "    </tr>\n",
       "  </thead>\n",
       "  <tbody>\n",
       "    <tr>\n",
       "      <th>0</th>\n",
       "      <td>7b75f3fb-0063-4607-b4e4-b7b422e7ca9b</td>\n",
       "      <td>ERROR</td>\n",
       "      <td>Invalid distributor organisation-name=Hakai Ge...</td>\n",
       "      <td>7b75f3fb-0063-4607-b4e4-b7b422e7ca9b</td>\n",
       "      <td>ca-cioos_0fbdb22e-d039-46a8-95e3-0bbf4f55d972</td>\n",
       "      <td>Hakai Institute</td>\n",
       "      <td>Glacier and Ice Field Mapping - 2021 - Airborn...</td>\n",
       "      <td>CC-BY-4.0</td>\n",
       "      <td>False</td>\n",
       "      <td>NaN</td>\n",
       "      <td>completed</td>\n",
       "      <td>active</td>\n",
       "      <td>dataset</td>\n",
       "      <td>Hakai Geospatial</td>\n",
       "      <td>2</td>\n",
       "      <td>{'type': 'Polygon', 'coordinates': [[[-128.0, ...</td>\n",
       "      <td>[{'max': '3000.0', 'min': '0.0'}]</td>\n",
       "      <td>other</td>\n",
       "      <td>&lt;a title='7b75f3fb-0063-4607-b4e4-b7b422e7ca9b...</td>\n",
       "      <td>&lt;a href='https://catalogue.hakai.org/dataset/c...</td>\n",
       "    </tr>\n",
       "    <tr>\n",
       "      <th>1</th>\n",
       "      <td>203f5c98-e8be-4c41-b523-dddea723ccbf</td>\n",
       "      <td>ERROR</td>\n",
       "      <td>Invalid distributor organisation-name=Hakai Ge...</td>\n",
       "      <td>203f5c98-e8be-4c41-b523-dddea723ccbf</td>\n",
       "      <td>ca-cioos_0295e3a3-11b5-494d-ac60-ed4b95a15fad</td>\n",
       "      <td>Hakai Institute</td>\n",
       "      <td>Fraser River - BCSRIF Landslide Mapping – 2022...</td>\n",
       "      <td>CC-BY-4.0</td>\n",
       "      <td>False</td>\n",
       "      <td>Geospatial, Airborne Coastal Observatory</td>\n",
       "      <td>completed</td>\n",
       "      <td>active</td>\n",
       "      <td>dataset</td>\n",
       "      <td>Hakai Geospatial</td>\n",
       "      <td>2</td>\n",
       "      <td>{'type': 'Polygon', 'coordinates': [[[-121.7, ...</td>\n",
       "      <td>[{'max': '1500.0', 'min': '0.0'}]</td>\n",
       "      <td>other</td>\n",
       "      <td>&lt;a title='203f5c98-e8be-4c41-b523-dddea723ccbf...</td>\n",
       "      <td>&lt;a href='https://catalogue.hakai.org/dataset/c...</td>\n",
       "    </tr>\n",
       "    <tr>\n",
       "      <th>2</th>\n",
       "      <td>92b7a1eb-87a7-4a55-9093-6e5b354041fa</td>\n",
       "      <td>ERROR</td>\n",
       "      <td>Invalid resources[...].url.status_code=404</td>\n",
       "      <td>92b7a1eb-87a7-4a55-9093-6e5b354041fa</td>\n",
       "      <td>ca-cioos_05d92ed0-25a0-4108-bce5-0425a934361e</td>\n",
       "      <td>Hakai Institute</td>\n",
       "      <td>Nearshore substrate classification - Northwest...</td>\n",
       "      <td>CC-BY-4.0</td>\n",
       "      <td>False</td>\n",
       "      <td>NaN</td>\n",
       "      <td>underDevelopment</td>\n",
       "      <td>active</td>\n",
       "      <td>dataset</td>\n",
       "      <td>Hakai Institute</td>\n",
       "      <td>4</td>\n",
       "      <td>{'type': 'Polygon', 'coordinates': [[[-128.188...</td>\n",
       "      <td>[{'max': '500.0', 'min': '0.0'}]</td>\n",
       "      <td>other</td>\n",
       "      <td>&lt;a title='92b7a1eb-87a7-4a55-9093-6e5b354041fa...</td>\n",
       "      <td>&lt;a href='https://catalogue.hakai.org/dataset/c...</td>\n",
       "    </tr>\n",
       "    <tr>\n",
       "      <th>3</th>\n",
       "      <td>92b7a1eb-87a7-4a55-9093-6e5b354041fa</td>\n",
       "      <td>ERROR</td>\n",
       "      <td>Empty resource name</td>\n",
       "      <td>92b7a1eb-87a7-4a55-9093-6e5b354041fa</td>\n",
       "      <td>ca-cioos_05d92ed0-25a0-4108-bce5-0425a934361e</td>\n",
       "      <td>Hakai Institute</td>\n",
       "      <td>Nearshore substrate classification - Northwest...</td>\n",
       "      <td>CC-BY-4.0</td>\n",
       "      <td>False</td>\n",
       "      <td>NaN</td>\n",
       "      <td>underDevelopment</td>\n",
       "      <td>active</td>\n",
       "      <td>dataset</td>\n",
       "      <td>Hakai Institute</td>\n",
       "      <td>4</td>\n",
       "      <td>{'type': 'Polygon', 'coordinates': [[[-128.188...</td>\n",
       "      <td>[{'max': '500.0', 'min': '0.0'}]</td>\n",
       "      <td>other</td>\n",
       "      <td>&lt;a title='92b7a1eb-87a7-4a55-9093-6e5b354041fa...</td>\n",
       "      <td>&lt;a href='https://catalogue.hakai.org/dataset/c...</td>\n",
       "    </tr>\n",
       "    <tr>\n",
       "      <th>4</th>\n",
       "      <td>92b7a1eb-87a7-4a55-9093-6e5b354041fa</td>\n",
       "      <td>ERROR</td>\n",
       "      <td>Invalid resource format: resources[...].format...</td>\n",
       "      <td>92b7a1eb-87a7-4a55-9093-6e5b354041fa</td>\n",
       "      <td>ca-cioos_05d92ed0-25a0-4108-bce5-0425a934361e</td>\n",
       "      <td>Hakai Institute</td>\n",
       "      <td>Nearshore substrate classification - Northwest...</td>\n",
       "      <td>CC-BY-4.0</td>\n",
       "      <td>False</td>\n",
       "      <td>NaN</td>\n",
       "      <td>underDevelopment</td>\n",
       "      <td>active</td>\n",
       "      <td>dataset</td>\n",
       "      <td>Hakai Institute</td>\n",
       "      <td>4</td>\n",
       "      <td>{'type': 'Polygon', 'coordinates': [[[-128.188...</td>\n",
       "      <td>[{'max': '500.0', 'min': '0.0'}]</td>\n",
       "      <td>other</td>\n",
       "      <td>&lt;a title='92b7a1eb-87a7-4a55-9093-6e5b354041fa...</td>\n",
       "      <td>&lt;a href='https://catalogue.hakai.org/dataset/c...</td>\n",
       "    </tr>\n",
       "    <tr>\n",
       "      <th>...</th>\n",
       "      <td>...</td>\n",
       "      <td>...</td>\n",
       "      <td>...</td>\n",
       "      <td>...</td>\n",
       "      <td>...</td>\n",
       "      <td>...</td>\n",
       "      <td>...</td>\n",
       "      <td>...</td>\n",
       "      <td>...</td>\n",
       "      <td>...</td>\n",
       "      <td>...</td>\n",
       "      <td>...</td>\n",
       "      <td>...</td>\n",
       "      <td>...</td>\n",
       "      <td>...</td>\n",
       "      <td>...</td>\n",
       "      <td>...</td>\n",
       "      <td>...</td>\n",
       "      <td>...</td>\n",
       "      <td>...</td>\n",
       "    </tr>\n",
       "    <tr>\n",
       "      <th>74</th>\n",
       "      <td>8598da5b-ef61-4287-a601-72e666a3ea14</td>\n",
       "      <td>ERROR</td>\n",
       "      <td>Invalid resource format: resources[...].format...</td>\n",
       "      <td>8598da5b-ef61-4287-a601-72e666a3ea14</td>\n",
       "      <td>ca-cioos_eb1feb98-b11a-4663-b7ab-2216df8187bd</td>\n",
       "      <td>Hakai Institute</td>\n",
       "      <td>Juvenile Salmon Migration Observations from th...</td>\n",
       "      <td>CC-BY-4.0</td>\n",
       "      <td>False</td>\n",
       "      <td>NaN</td>\n",
       "      <td>completed</td>\n",
       "      <td>active</td>\n",
       "      <td>dataset</td>\n",
       "      <td>Hakai Institute</td>\n",
       "      <td>2</td>\n",
       "      <td>{'type': 'Polygon', 'coordinates': [[[-125.2, ...</td>\n",
       "      <td>[{'max': '9.0', 'min': '0.0'}]</td>\n",
       "      <td>other</td>\n",
       "      <td>&lt;a title='8598da5b-ef61-4287-a601-72e666a3ea14...</td>\n",
       "      <td>&lt;a href='https://catalogue.hakai.org/dataset/c...</td>\n",
       "    </tr>\n",
       "    <tr>\n",
       "      <th>75</th>\n",
       "      <td>5be87ce5-5533-4812-ba7e-b7f88db37899</td>\n",
       "      <td>ERROR</td>\n",
       "      <td>Invalid distributor organisation-name=Hakai In...</td>\n",
       "      <td>5be87ce5-5533-4812-ba7e-b7f88db37899</td>\n",
       "      <td>ca-cioos_ed3c5cb4-e6b0-4c8a-808e-3583a9a6cfde</td>\n",
       "      <td>Hakai Institute</td>\n",
       "      <td>Observed stream flow from seven small coastal ...</td>\n",
       "      <td>CC-BY-4.0</td>\n",
       "      <td>False</td>\n",
       "      <td>NaN</td>\n",
       "      <td>completed</td>\n",
       "      <td>active</td>\n",
       "      <td>dataset</td>\n",
       "      <td>Hakai Institute - McGill University</td>\n",
       "      <td>3</td>\n",
       "      <td>{'type': 'Polygon', 'coordinates': [[[-128.132...</td>\n",
       "      <td>[{'max': '0.0', 'min': '0.0'}]</td>\n",
       "      <td>other</td>\n",
       "      <td>&lt;a title='5be87ce5-5533-4812-ba7e-b7f88db37899...</td>\n",
       "      <td>&lt;a href='https://catalogue.hakai.org/dataset/c...</td>\n",
       "    </tr>\n",
       "    <tr>\n",
       "      <th>76</th>\n",
       "      <td>14b416a4-1730-4e7c-a899-228ab5c05b56</td>\n",
       "      <td>ERROR</td>\n",
       "      <td>Invalid resources[...].url.status_code=404</td>\n",
       "      <td>14b416a4-1730-4e7c-a899-228ab5c05b56</td>\n",
       "      <td>ca-cioos_f7c3a2f1-29b5-4d4d-a1a7-03ec507fe1a2</td>\n",
       "      <td>Hakai Institute</td>\n",
       "      <td>Real-Time Provisional High-Resolution Record o...</td>\n",
       "      <td>CC-BY-4.0</td>\n",
       "      <td>False</td>\n",
       "      <td>NaN</td>\n",
       "      <td>onGoing</td>\n",
       "      <td>active</td>\n",
       "      <td>dataset</td>\n",
       "      <td>Hakai Institute</td>\n",
       "      <td>1</td>\n",
       "      <td>{'type': 'Point', 'coordinates': [-131.5954, 5...</td>\n",
       "      <td>[{'max': '4.0', 'min': '4.0'}]</td>\n",
       "      <td>seaSurfaceTemperature, inorganicCarbon, seaSur...</td>\n",
       "      <td>&lt;a title='14b416a4-1730-4e7c-a899-228ab5c05b56...</td>\n",
       "      <td>&lt;a href='https://catalogue.hakai.org/dataset/c...</td>\n",
       "    </tr>\n",
       "    <tr>\n",
       "      <th>77</th>\n",
       "      <td>4ac069e0-08c4-484b-b9e4-3f7856773f59</td>\n",
       "      <td>ERROR</td>\n",
       "      <td>Invalid distributor organisation-name=Hakai Ge...</td>\n",
       "      <td>4ac069e0-08c4-484b-b9e4-3f7856773f59</td>\n",
       "      <td>ca-cioos_f952a904-f9f7-4876-b518-c98b1fd96f7e</td>\n",
       "      <td>Hakai Institute</td>\n",
       "      <td>Snow Mapping Coastal British Columbia - 2021 -...</td>\n",
       "      <td>CC-BY-4.0</td>\n",
       "      <td>False</td>\n",
       "      <td>Airborne Coastal Observatory</td>\n",
       "      <td>completed</td>\n",
       "      <td>active</td>\n",
       "      <td>dataset</td>\n",
       "      <td>Hakai Geospatial</td>\n",
       "      <td>2</td>\n",
       "      <td>{'type': 'Polygon', 'coordinates': [[[-126.6, ...</td>\n",
       "      <td>[{'max': '2000.0', 'min': '0.0'}]</td>\n",
       "      <td>other</td>\n",
       "      <td>&lt;a title='4ac069e0-08c4-484b-b9e4-3f7856773f59...</td>\n",
       "      <td>&lt;a href='https://catalogue.hakai.org/dataset/c...</td>\n",
       "    </tr>\n",
       "    <tr>\n",
       "      <th>78</th>\n",
       "      <td>736679b3-89d6-4168-84b7-38b81b563f14</td>\n",
       "      <td>ERROR</td>\n",
       "      <td>Invalid resources[...].url.status_code=404</td>\n",
       "      <td>736679b3-89d6-4168-84b7-38b81b563f14</td>\n",
       "      <td>ca-cioos_feef912f-363f-431b-a8e5-0ec13bd5e062</td>\n",
       "      <td>Hakai Institute</td>\n",
       "      <td>Real-Time Provisional High-Resolution Record o...</td>\n",
       "      <td>CC-BY-4.0</td>\n",
       "      <td>False</td>\n",
       "      <td>NaN</td>\n",
       "      <td>onGoing</td>\n",
       "      <td>active</td>\n",
       "      <td>dataset</td>\n",
       "      <td>Hakai Institute</td>\n",
       "      <td>1</td>\n",
       "      <td>{'type': 'Point', 'coordinates': [-149.4428, 6...</td>\n",
       "      <td>[{'max': '20.0', 'min': '20.0'}]</td>\n",
       "      <td>seaSurfaceTemperature, inorganicCarbon, seaSur...</td>\n",
       "      <td>&lt;a title='736679b3-89d6-4168-84b7-38b81b563f14...</td>\n",
       "      <td>&lt;a href='https://catalogue.hakai.org/dataset/c...</td>\n",
       "    </tr>\n",
       "  </tbody>\n",
       "</table>\n",
       "<p>79 rows × 20 columns</p>\n",
       "</div>"
      ],
      "text/plain": [
       "                               record_id  level  \\\n",
       "0   7b75f3fb-0063-4607-b4e4-b7b422e7ca9b  ERROR   \n",
       "1   203f5c98-e8be-4c41-b523-dddea723ccbf  ERROR   \n",
       "2   92b7a1eb-87a7-4a55-9093-6e5b354041fa  ERROR   \n",
       "3   92b7a1eb-87a7-4a55-9093-6e5b354041fa  ERROR   \n",
       "4   92b7a1eb-87a7-4a55-9093-6e5b354041fa  ERROR   \n",
       "..                                   ...    ...   \n",
       "74  8598da5b-ef61-4287-a601-72e666a3ea14  ERROR   \n",
       "75  5be87ce5-5533-4812-ba7e-b7f88db37899  ERROR   \n",
       "76  14b416a4-1730-4e7c-a899-228ab5c05b56  ERROR   \n",
       "77  4ac069e0-08c4-484b-b9e4-3f7856773f59  ERROR   \n",
       "78  736679b3-89d6-4168-84b7-38b81b563f14  ERROR   \n",
       "\n",
       "                                              message  \\\n",
       "0   Invalid distributor organisation-name=Hakai Ge...   \n",
       "1   Invalid distributor organisation-name=Hakai Ge...   \n",
       "2          Invalid resources[...].url.status_code=404   \n",
       "3                                 Empty resource name   \n",
       "4   Invalid resource format: resources[...].format...   \n",
       "..                                                ...   \n",
       "74  Invalid resource format: resources[...].format...   \n",
       "75  Invalid distributor organisation-name=Hakai In...   \n",
       "76         Invalid resources[...].url.status_code=404   \n",
       "77  Invalid distributor organisation-name=Hakai Ge...   \n",
       "78         Invalid resources[...].url.status_code=404   \n",
       "\n",
       "                                      id  \\\n",
       "0   7b75f3fb-0063-4607-b4e4-b7b422e7ca9b   \n",
       "1   203f5c98-e8be-4c41-b523-dddea723ccbf   \n",
       "2   92b7a1eb-87a7-4a55-9093-6e5b354041fa   \n",
       "3   92b7a1eb-87a7-4a55-9093-6e5b354041fa   \n",
       "4   92b7a1eb-87a7-4a55-9093-6e5b354041fa   \n",
       "..                                   ...   \n",
       "74  8598da5b-ef61-4287-a601-72e666a3ea14   \n",
       "75  5be87ce5-5533-4812-ba7e-b7f88db37899   \n",
       "76  14b416a4-1730-4e7c-a899-228ab5c05b56   \n",
       "77  4ac069e0-08c4-484b-b9e4-3f7856773f59   \n",
       "78  736679b3-89d6-4168-84b7-38b81b563f14   \n",
       "\n",
       "                                             name     organization  \\\n",
       "0   ca-cioos_0fbdb22e-d039-46a8-95e3-0bbf4f55d972  Hakai Institute   \n",
       "1   ca-cioos_0295e3a3-11b5-494d-ac60-ed4b95a15fad  Hakai Institute   \n",
       "2   ca-cioos_05d92ed0-25a0-4108-bce5-0425a934361e  Hakai Institute   \n",
       "3   ca-cioos_05d92ed0-25a0-4108-bce5-0425a934361e  Hakai Institute   \n",
       "4   ca-cioos_05d92ed0-25a0-4108-bce5-0425a934361e  Hakai Institute   \n",
       "..                                            ...              ...   \n",
       "74  ca-cioos_eb1feb98-b11a-4663-b7ab-2216df8187bd  Hakai Institute   \n",
       "75  ca-cioos_ed3c5cb4-e6b0-4c8a-808e-3583a9a6cfde  Hakai Institute   \n",
       "76  ca-cioos_f7c3a2f1-29b5-4d4d-a1a7-03ec507fe1a2  Hakai Institute   \n",
       "77  ca-cioos_f952a904-f9f7-4876-b518-c98b1fd96f7e  Hakai Institute   \n",
       "78  ca-cioos_feef912f-363f-431b-a8e5-0ec13bd5e062  Hakai Institute   \n",
       "\n",
       "                                                title    licence  private  \\\n",
       "0   Glacier and Ice Field Mapping - 2021 - Airborn...  CC-BY-4.0    False   \n",
       "1   Fraser River - BCSRIF Landslide Mapping – 2022...  CC-BY-4.0    False   \n",
       "2   Nearshore substrate classification - Northwest...  CC-BY-4.0    False   \n",
       "3   Nearshore substrate classification - Northwest...  CC-BY-4.0    False   \n",
       "4   Nearshore substrate classification - Northwest...  CC-BY-4.0    False   \n",
       "..                                                ...        ...      ...   \n",
       "74  Juvenile Salmon Migration Observations from th...  CC-BY-4.0    False   \n",
       "75  Observed stream flow from seven small coastal ...  CC-BY-4.0    False   \n",
       "76  Real-Time Provisional High-Resolution Record o...  CC-BY-4.0    False   \n",
       "77  Snow Mapping Coastal British Columbia - 2021 -...  CC-BY-4.0    False   \n",
       "78  Real-Time Provisional High-Resolution Record o...  CC-BY-4.0    False   \n",
       "\n",
       "                                    projects          progress   state  \\\n",
       "0                                        NaN         completed  active   \n",
       "1   Geospatial, Airborne Coastal Observatory         completed  active   \n",
       "2                                        NaN  underDevelopment  active   \n",
       "3                                        NaN  underDevelopment  active   \n",
       "4                                        NaN  underDevelopment  active   \n",
       "..                                       ...               ...     ...   \n",
       "74                                       NaN         completed  active   \n",
       "75                                       NaN         completed  active   \n",
       "76                                       NaN           onGoing  active   \n",
       "77              Airborne Coastal Observatory         completed  active   \n",
       "78                                       NaN           onGoing  active   \n",
       "\n",
       "       type                          distributor  resources_count  \\\n",
       "0   dataset                     Hakai Geospatial                2   \n",
       "1   dataset                     Hakai Geospatial                2   \n",
       "2   dataset                      Hakai Institute                4   \n",
       "3   dataset                      Hakai Institute                4   \n",
       "4   dataset                      Hakai Institute                4   \n",
       "..      ...                                  ...              ...   \n",
       "74  dataset                      Hakai Institute                2   \n",
       "75  dataset  Hakai Institute - McGill University                3   \n",
       "76  dataset                      Hakai Institute                1   \n",
       "77  dataset                     Hakai Geospatial                2   \n",
       "78  dataset                      Hakai Institute                1   \n",
       "\n",
       "                                              spatial  \\\n",
       "0   {'type': 'Polygon', 'coordinates': [[[-128.0, ...   \n",
       "1   {'type': 'Polygon', 'coordinates': [[[-121.7, ...   \n",
       "2   {'type': 'Polygon', 'coordinates': [[[-128.188...   \n",
       "3   {'type': 'Polygon', 'coordinates': [[[-128.188...   \n",
       "4   {'type': 'Polygon', 'coordinates': [[[-128.188...   \n",
       "..                                                ...   \n",
       "74  {'type': 'Polygon', 'coordinates': [[[-125.2, ...   \n",
       "75  {'type': 'Polygon', 'coordinates': [[[-128.132...   \n",
       "76  {'type': 'Point', 'coordinates': [-131.5954, 5...   \n",
       "77  {'type': 'Polygon', 'coordinates': [[[-126.6, ...   \n",
       "78  {'type': 'Point', 'coordinates': [-149.4428, 6...   \n",
       "\n",
       "                      vertical-extent  \\\n",
       "0   [{'max': '3000.0', 'min': '0.0'}]   \n",
       "1   [{'max': '1500.0', 'min': '0.0'}]   \n",
       "2    [{'max': '500.0', 'min': '0.0'}]   \n",
       "3    [{'max': '500.0', 'min': '0.0'}]   \n",
       "4    [{'max': '500.0', 'min': '0.0'}]   \n",
       "..                                ...   \n",
       "74     [{'max': '9.0', 'min': '0.0'}]   \n",
       "75     [{'max': '0.0', 'min': '0.0'}]   \n",
       "76     [{'max': '4.0', 'min': '4.0'}]   \n",
       "77  [{'max': '2000.0', 'min': '0.0'}]   \n",
       "78   [{'max': '20.0', 'min': '20.0'}]   \n",
       "\n",
       "                                                  eov  \\\n",
       "0                                               other   \n",
       "1                                               other   \n",
       "2                                               other   \n",
       "3                                               other   \n",
       "4                                               other   \n",
       "..                                                ...   \n",
       "74                                              other   \n",
       "75                                              other   \n",
       "76  seaSurfaceTemperature, inorganicCarbon, seaSur...   \n",
       "77                                              other   \n",
       "78  seaSurfaceTemperature, inorganicCarbon, seaSur...   \n",
       "\n",
       "                                               issues  \\\n",
       "0   <a title='7b75f3fb-0063-4607-b4e4-b7b422e7ca9b...   \n",
       "1   <a title='203f5c98-e8be-4c41-b523-dddea723ccbf...   \n",
       "2   <a title='92b7a1eb-87a7-4a55-9093-6e5b354041fa...   \n",
       "3   <a title='92b7a1eb-87a7-4a55-9093-6e5b354041fa...   \n",
       "4   <a title='92b7a1eb-87a7-4a55-9093-6e5b354041fa...   \n",
       "..                                                ...   \n",
       "74  <a title='8598da5b-ef61-4287-a601-72e666a3ea14...   \n",
       "75  <a title='5be87ce5-5533-4812-ba7e-b7f88db37899...   \n",
       "76  <a title='14b416a4-1730-4e7c-a899-228ab5c05b56...   \n",
       "77  <a title='4ac069e0-08c4-484b-b9e4-3f7856773f59...   \n",
       "78  <a title='736679b3-89d6-4168-84b7-38b81b563f14...   \n",
       "\n",
       "                                                links  \n",
       "0   <a href='https://catalogue.hakai.org/dataset/c...  \n",
       "1   <a href='https://catalogue.hakai.org/dataset/c...  \n",
       "2   <a href='https://catalogue.hakai.org/dataset/c...  \n",
       "3   <a href='https://catalogue.hakai.org/dataset/c...  \n",
       "4   <a href='https://catalogue.hakai.org/dataset/c...  \n",
       "..                                                ...  \n",
       "74  <a href='https://catalogue.hakai.org/dataset/c...  \n",
       "75  <a href='https://catalogue.hakai.org/dataset/c...  \n",
       "76  <a href='https://catalogue.hakai.org/dataset/c...  \n",
       "77  <a href='https://catalogue.hakai.org/dataset/c...  \n",
       "78  <a href='https://catalogue.hakai.org/dataset/c...  \n",
       "\n",
       "[79 rows x 20 columns]"
      ]
     },
     "execution_count": 60,
     "metadata": {},
     "output_type": "execute_result"
    }
   ],
   "source": [
    "standardized_issues"
   ]
  },
  {
   "cell_type": "code",
   "execution_count": null,
   "metadata": {},
   "outputs": [],
   "source": []
  }
 ],
 "metadata": {
  "kernelspec": {
   "display_name": ".venv",
   "language": "python",
   "name": "python3"
  },
  "language_info": {
   "codemirror_mode": {
    "name": "ipython",
    "version": 3
   },
   "file_extension": ".py",
   "mimetype": "text/x-python",
   "name": "python",
   "nbconvert_exporter": "python",
   "pygments_lexer": "ipython3",
   "version": "3.11.2"
  }
 },
 "nbformat": 4,
 "nbformat_minor": 2
}
